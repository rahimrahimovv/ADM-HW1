{
 "cells": [
  {
   "cell_type": "markdown",
   "id": "6a1d95ce-6e75-422b-9f2f-d2c7e6e43ea4",
   "metadata": {},
   "source": [
    "# Problem 1"
   ]
  },
  {
   "cell_type": "markdown",
   "id": "8f1f9e79-c784-4104-a83e-3e088687bdc5",
   "metadata": {},
   "source": [
    "## Introduction"
   ]
  },
  {
   "cell_type": "markdown",
   "id": "c84a12b3",
   "metadata": {},
   "source": [
    "###  1: Say \"Hello, World!\" With Python"
   ]
  },
  {
   "cell_type": "code",
   "execution_count": null,
   "id": "7938da8e-523d-49f1-aadb-b59988b7dcf3",
   "metadata": {},
   "outputs": [],
   "source": [
    "if __name__ == '__main__':\n",
    "    print \"Hello, World!\""
   ]
  },
  {
   "cell_type": "markdown",
   "id": "93d8d762-ab92-4e9b-bce1-0487d3fb4749",
   "metadata": {},
   "source": [
    "### 2: Python If-Else"
   ]
  },
  {
   "cell_type": "code",
   "execution_count": null,
   "id": "8baa0d2f-94b4-4dbe-8d48-42cf21be9b1f",
   "metadata": {},
   "outputs": [],
   "source": [
    "#!/bin/python\n",
    "\n",
    "import math\n",
    "import os\n",
    "import random\n",
    "import re\n",
    "import sys\n",
    "\n",
    "\n",
    "\n",
    "n= int(raw_input().strip())\n",
    "a=range(100)\n",
    "if n%2!=0:\n",
    "    print('Weird')\n",
    "elif n%2==0:\n",
    "    if n in a[3:6]:\n",
    "        print('Not Weird')\n",
    "    elif n in a[7:21]:\n",
    "        print('Weird')\n",
    "    elif n>20:\n",
    "        print('Not Weird')\n",
    "    else: \n",
    "        print('Not Weird')"
   ]
  },
  {
   "cell_type": "markdown",
   "id": "0ad3001d-b3da-4c82-b44d-5fb6194f2d3a",
   "metadata": {},
   "source": [
    "### 3: Arithmetic Operators"
   ]
  },
  {
   "cell_type": "code",
   "execution_count": null,
   "id": "ad4bca36-a3a0-4156-9830-c856cfd91851",
   "metadata": {},
   "outputs": [],
   "source": [
    "if __name__ == '__main__':\n",
    "    a=int(raw_input().strip())\n",
    "    b=int(raw_input().strip())\n",
    "    print(a+b)\n",
    "    print(a-b)\n",
    "    print(a*b)"
   ]
  },
  {
   "cell_type": "markdown",
   "id": "9253469c-57f0-46ce-bd11-82cd49acb2ce",
   "metadata": {},
   "source": [
    "### 4: Python: Division"
   ]
  },
  {
   "cell_type": "code",
   "execution_count": null,
   "id": "315bcebb-0557-4844-b929-76a85604e3f6",
   "metadata": {},
   "outputs": [],
   "source": [
    "from __future__ import division\n",
    "\n",
    "if __name__ == '__main__':\n",
    "    a = int(raw_input())\n",
    "    b = int(raw_input())\n",
    "    print(a//b)\n",
    "    print(a/b)"
   ]
  },
  {
   "cell_type": "markdown",
   "id": "1dc50af0-6374-402e-b232-41e7df63042d",
   "metadata": {},
   "source": [
    "### 5: Loops"
   ]
  },
  {
   "cell_type": "code",
   "execution_count": null,
   "id": "fbddfd8a-0102-4b6e-94e7-dd6f74e6a19a",
   "metadata": {},
   "outputs": [],
   "source": [
    "if __name__ == '__main__':\n",
    "    n = int(raw_input())\n",
    "    for i in range(0,n,1):\n",
    "        print(i*i)"
   ]
  },
  {
   "cell_type": "markdown",
   "id": "f8164b80-81c9-464f-a62b-ee665fa38c34",
   "metadata": {},
   "source": [
    "### 6: Write a function"
   ]
  },
  {
   "cell_type": "code",
   "execution_count": null,
   "id": "9781a935-80a3-4833-a876-65dded792757",
   "metadata": {},
   "outputs": [],
   "source": [
    "def is_leap(year):\n",
    "    leap = year%4==0 and (year%400==0 or year%100!=0)\n",
    "    return leap"
   ]
  },
  {
   "cell_type": "markdown",
   "id": "97e5f76b-bfb5-4fc2-a544-c4715a4f5ef6",
   "metadata": {},
   "source": [
    "### 7: Print function"
   ]
  },
  {
   "cell_type": "code",
   "execution_count": null,
   "id": "c11c77bb-849d-4a6a-8c5a-25d9b65689ac",
   "metadata": {},
   "outputs": [],
   "source": [
    "from __future__ import print_function\n",
    "n = int(input())\n",
    "for i in range(1,n+1):\n",
    "    print(i,end=\"\")"
   ]
  },
  {
   "cell_type": "markdown",
   "id": "c8d2cfa4-6425-406f-8b36-eac24d8b1109",
   "metadata": {},
   "source": [
    "# Data types\n",
    "###  1: List Comprehensions"
   ]
  },
  {
   "cell_type": "code",
   "execution_count": null,
   "id": "ff703a4f-0174-4298-a10e-325bd9d7973d",
   "metadata": {},
   "outputs": [],
   "source": [
    "x,y,z,n = [int(input()) for i in range(4)]\n",
    "print([[i,j,k] for i in range(x+1) for j in range(y+1) for k in range(z+1) if ((i+j+k) != n)])"
   ]
  },
  {
   "cell_type": "markdown",
   "id": "84f9039b-0116-47d4-84b4-199cecb624c2",
   "metadata": {},
   "source": [
    "### 2: Find the Runner-Up Score!"
   ]
  },
  {
   "cell_type": "code",
   "execution_count": null,
   "id": "f2c2f33f-e77e-4fcf-803f-56041b61a190",
   "metadata": {},
   "outputs": [],
   "source": [
    "n = int(input())\n",
    "arr = list(map(int,raw_input().strip().split()))[:n]\n",
    "m = max(arr)\n",
    "while max(arr) == m:\n",
    "    arr.remove(max(arr))\n",
    "\n",
    "print max(arr)"
   ]
  },
  {
   "cell_type": "markdown",
   "id": "055064ad-3832-4835-aa25-a765471958b3",
   "metadata": {},
   "source": [
    "###  3: Nested Lists"
   ]
  },
  {
   "cell_type": "code",
   "execution_count": null,
   "id": "4cc1a493-88fc-49f8-aef4-40589a07afc1",
   "metadata": {},
   "outputs": [],
   "source": [
    "students = {}\n",
    "n = input()\n",
    "for x in range(n):\n",
    "    name = raw_input()\n",
    "    grade = input()\n",
    "    \n",
    "    if grade in students:\n",
    "        students[grade].append(name)\n",
    "    else:\n",
    "        students[grade] = [name]\n",
    "        \n",
    "all_students = list(set(students.keys()))\n",
    "all_students.sort()\n",
    "names_ordered = students[all_students[1]]\n",
    "names_ordered.sort()\n",
    "\n",
    "for name in names_ordered:\n",
    "    print name"
   ]
  },
  {
   "cell_type": "markdown",
   "id": "1b1bb327-79ed-4e7b-b34c-74ad98e107ab",
   "metadata": {},
   "source": [
    "###  4: Finding the percentage"
   ]
  },
  {
   "cell_type": "code",
   "execution_count": null,
   "id": "7237257b-16d8-441e-a291-fe4eb9ecf561",
   "metadata": {},
   "outputs": [],
   "source": [
    "if __name__ == '__main__':\n",
    "    n = int(raw_input())\n",
    "    student_marks = {}\n",
    "    for _ in range(n):\n",
    "        line = raw_input().split()\n",
    "        name, scores = line[0], line[1:]\n",
    "        scores = map(float, scores)\n",
    "        student_marks[name] = scores\n",
    "    query_name = raw_input()\n",
    "    lq = student_marks[query_name]\n",
    "    print(\"{0:.2f}\".format(sum(lq)/(len(lq))))"
   ]
  },
  {
   "cell_type": "markdown",
   "id": "11adfbba-024f-4e57-a637-923edebff94a",
   "metadata": {},
   "source": [
    "###  5: Lists"
   ]
  },
  {
   "cell_type": "code",
   "execution_count": null,
   "id": "31bff0a2-ef94-4946-947a-3618ee3ce4ca",
   "metadata": {},
   "outputs": [],
   "source": [
    "if __name__ == '__main__':\n",
    "    N = int(raw_input())\n",
    "    arr=[]\n",
    "    for i in range(N):\n",
    "        ask = raw_input().split()\n",
    "        if ask[0] == 'insert':\n",
    "            arr.insert(int(ask[1]),int(ask[2]))\n",
    "        elif ask[0] == 'append':\n",
    "            arr.append(int(ask[1]))\n",
    "        elif ask[0] == 'remove':\n",
    "            arr.remove(int(ask[1]))\n",
    "        elif ask[0] == 'sort':\n",
    "            arr.sort()\n",
    "        elif ask[0] == 'pop':\n",
    "            arr.pop()\n",
    "        elif ask[0] == 'reverse':\n",
    "            arr.reverse()\n",
    "        else:\n",
    "            print arr"
   ]
  },
  {
   "cell_type": "markdown",
   "id": "8c0660c1-95e3-4554-9275-ca0df06c0148",
   "metadata": {},
   "source": [
    "###  6: Tuples"
   ]
  },
  {
   "cell_type": "code",
   "execution_count": null,
   "id": "b7bc232d-e167-41a6-af4a-adb53706cf07",
   "metadata": {},
   "outputs": [],
   "source": [
    "if __name__ == '__main__':\n",
    "    n = int(raw_input())\n",
    "    integer_list = map(int, input().split())\n",
    "    t=tuple(integer_list)\n",
    "    print(hash(t))"
   ]
  },
  {
   "cell_type": "markdown",
   "id": "e7b3a622-3156-46c3-806c-f3c859ef9772",
   "metadata": {},
   "source": [
    "# Strings\n",
    "###  1: sWAP cASE"
   ]
  },
  {
   "cell_type": "code",
   "execution_count": null,
   "id": "c5364f3e-4fca-47ea-96cc-e6ab391c132b",
   "metadata": {},
   "outputs": [],
   "source": [
    "def swap_case(s):\n",
    "    word = \"\"\n",
    "    for i in s:\n",
    "        if i == i.upper():\n",
    "            word += i.lower()\n",
    "        else:\n",
    "            word += i.upper()\n",
    "    return word"
   ]
  },
  {
   "cell_type": "markdown",
   "id": "5ea2b186-5eab-4cba-ac98-511ee6cb664b",
   "metadata": {},
   "source": [
    "###  2: What's your name?"
   ]
  },
  {
   "cell_type": "code",
   "execution_count": null,
   "id": "2a90c5d4-1b9b-445b-a571-ea01b82397c7",
   "metadata": {},
   "outputs": [],
   "source": [
    "def print_full_name(first, last):\n",
    "    print('Hello {} {}! You just delved into python.'.format(first, last))\n",
    "\n",
    "if __name__ == '__main__':\n",
    "    first_name = input()\n",
    "    last_name = input()\n",
    "    print_full_name(first_name, last_name)"
   ]
  },
  {
   "cell_type": "markdown",
   "id": "5340ca14-9f98-41c7-ad0e-526394048c84",
   "metadata": {},
   "source": [
    "###  3: Mutations"
   ]
  },
  {
   "cell_type": "code",
   "execution_count": null,
   "id": "f2aaa92c-38d2-4511-b64b-22aaf4b1ea56",
   "metadata": {},
   "outputs": [],
   "source": [
    "def mutate_string(string, position, character):\n",
    "   l = list(string)\n",
    "   l[int(position)] = str(character)\n",
    "   string = ''.join(l)\n",
    "   return string\n",
    "\n",
    "if __name__ == '__main__':\n",
    "    s = input()\n",
    "    i, c = input().split()\n",
    "    s_new = mutate_string(s, int(i), c)\n",
    "    print(s_new)"
   ]
  },
  {
   "cell_type": "markdown",
   "id": "1a5b03fd-72cd-4227-b688-1fd43308d724",
   "metadata": {},
   "source": [
    "###  4: String Validators"
   ]
  },
  {
   "cell_type": "code",
   "execution_count": null,
   "id": "7955102f-313f-428f-bba9-745105260104",
   "metadata": {},
   "outputs": [],
   "source": [
    "if __name__ == '__main__':\n",
    "    s = input() #here I initialize the string\n",
    "    print(any(a.isalnum() for a in s)) #looking for alphanumeric characters\n",
    "    print(any(a.isalpha() for a in s)) #looking for alphabetical characters\n",
    "    print(any(a.isdigit() for a in s)) #looking for digits characters\n",
    "    print(any(a.islower() for a in s)) #looking for lowercase characters\n",
    "    print(any(a.isupper() for a in s)) #looking for uppercase characters"
   ]
  },
  {
   "cell_type": "markdown",
   "id": "0869b513-e4b1-4214-84f8-86f380e65707",
   "metadata": {},
   "source": [
    "###  5: Designer Door Mat"
   ]
  },
  {
   "cell_type": "code",
   "execution_count": null,
   "id": "ddfd56c0-a9f5-4ded-afcd-78b1d35599da",
   "metadata": {},
   "outputs": [],
   "source": [
    "n, m = map(int,input().split())\n",
    "pattern = [('.|.'*(2*i + 1)).center(m, '-') for i in range(n//2)]\n",
    "'''The flag is symmetrical, so you have the top and the bottom consequently. You can just work on n // 2. '''\n",
    "print('\\n'.join(pattern + ['WELCOME'.center(m, '-')] + pattern[::-1])) \n",
    "'''[ : :-1] reverses the pattern'''"
   ]
  },
  {
   "cell_type": "markdown",
   "id": "5b017082-099a-4b52-ba75-cfbb7d233392",
   "metadata": {},
   "source": [
    "###  6: Text Alignment"
   ]
  },
  {
   "cell_type": "code",
   "execution_count": null,
   "id": "302fef4c-949e-4397-a9bf-9d6ac8e95dbf",
   "metadata": {},
   "outputs": [],
   "source": [
    "thickness = int(input()) #This must be an odd number\n",
    "c = 'H'\n",
    "\n",
    "#Top Cone\n",
    "for i in range(thickness):\n",
    "    print((c*i).rjust(thickness-1)+c+(c*i).ljust(thickness-1))\n",
    "\n",
    "#Top Pillars\n",
    "for i in range(thickness+1):\n",
    "    print((c*thickness).center(thickness*2)+(c*thickness).center(thickness*6))\n",
    "\n",
    "#Middle Belt\n",
    "for i in range((thickness+1)//2):\n",
    "    print((c*thickness*5).center(thickness*6))    \n",
    "\n",
    "#Bottom Pillars\n",
    "for i in range(thickness+1):\n",
    "    print((c*thickness).center(thickness*2)+(c*thickness).center(thickness*6))    \n",
    "\n",
    "#Bottom Cone\n",
    "for i in range(thickness):\n",
    "    print(((c*(thickness-i-1)).rjust(thickness)+c+(c*(thickness-i-1)).ljust(thickness)).rjust(thickness*6))"
   ]
  },
  {
   "cell_type": "markdown",
   "id": "32947007-cda2-432c-841a-3a113a7eb1cb",
   "metadata": {},
   "source": [
    "###  7: String Split and Join"
   ]
  },
  {
   "cell_type": "code",
   "execution_count": null,
   "id": "d86d79e0-f505-46c6-87ac-16e17f981b3c",
   "metadata": {},
   "outputs": [],
   "source": [
    "def split_and_join(line):\n",
    "    line = line.split(\" \") # line is converted to a list of strings.\n",
    "    line = \"-\".join(line) \n",
    "    return line\n",
    "    \n",
    "    \n",
    "\n",
    "if __name__ == '__main__':\n",
    "    line = input()\n",
    "    result = split_and_join(line)\n",
    "    print(result)"
   ]
  },
  {
   "cell_type": "markdown",
   "id": "5abebb6e-c40f-457e-8f20-f5b472295914",
   "metadata": {},
   "source": [
    "###  8: Text Wrap"
   ]
  },
  {
   "cell_type": "code",
   "execution_count": null,
   "id": "c5c32409-168c-4645-a931-36e770999d8f",
   "metadata": {},
   "outputs": [],
   "source": [
    "import textwrap\n",
    "\n",
    "def wrap(string, max_width):\n",
    "    return \"\\n\".join([string[ind:ind+max_width] for ind in range(0, len(string), max_width)])\n",
    "#\\n is for starting a new line\n",
    "#join in for concatenate these lines\n",
    "#string[ind:ind+max_width] is the expression that I added in the line\n",
    "if __name__ == '__main__':\n",
    "    string, max_width = input(), int(input())\n",
    "    result = wrap(string, max_width)\n",
    "    print(result)"
   ]
  },
  {
   "cell_type": "markdown",
   "id": "08c40897-84ce-438c-834c-e6f0f78192ce",
   "metadata": {},
   "source": [
    "###  9: Alphabet Rangoli"
   ]
  },
  {
   "cell_type": "code",
   "execution_count": null,
   "id": "c39da7d3-c355-4f4a-85bb-427a48122a6a",
   "metadata": {},
   "outputs": [],
   "source": [
    "def print_rangoli(size):\n",
    "    alpha = \"abcdefghijklmnopqrstuvwxyz\"\n",
    "    data = [alpha[i] for i in range(n)]\n",
    "    items = list(range(n))\n",
    "    items = items[:-1]+items[::-1]\n",
    "    for i in items:\n",
    "        temp = data[-(i+1):]\n",
    "        row = temp[::-1]+temp[1:]\n",
    "        print(\"-\".join(row).center(n*4-3, \"-\"))\n",
    "\n",
    "if __name__ == '__main__':\n",
    "    n = int(input())\n",
    "    print_rangoli(n)"
   ]
  },
  {
   "cell_type": "markdown",
   "id": "ce4f6fa4-0202-48f6-883e-d89ef1e3ccfa",
   "metadata": {},
   "source": [
    "###  10: String Formatting"
   ]
  },
  {
   "cell_type": "code",
   "execution_count": null,
   "id": "a500a7cb-532e-48de-9382-cf78ea4f16f0",
   "metadata": {},
   "outputs": [],
   "source": [
    "def print_formatted(n):\n",
    "    lst = len(str(bin(n)).replace('0b',''))\n",
    "\n",
    "    for i in range(1, n+1):\n",
    "        b = bin(int(i)).replace('0b','').rjust(lst, ' ')\n",
    "        o = oct(int(i)).replace('0o','',1).rjust(lst, ' ')\n",
    "        h = hex(int(i)).replace('0x','').upper().rjust(lst, ' ')\n",
    "        j = str(i).rjust(lst, ' ')\n",
    "        print(j, o, h, b)\n",
    "\n",
    "if __name__ == '__main__':\n",
    "    n = int(input())\n",
    "    print_formatted(n)"
   ]
  },
  {
   "cell_type": "markdown",
   "id": "74837de9-049c-4e9a-94e1-bb5d0ecdb398",
   "metadata": {},
   "source": [
    "###  11: Capitalize!"
   ]
  },
  {
   "cell_type": "code",
   "execution_count": null,
   "id": "118a3971-d2d0-482e-8641-3e2d4a8e584c",
   "metadata": {},
   "outputs": [],
   "source": [
    "def solve(s):\n",
    "    wr = s.split(' ') #for obtaining a list of the words in s I use split\n",
    "    cap_wr = [w.capitalize() for w in wr]\n",
    "    return(\" \".join(cap_wr))\n",
    "if __name__ == '__main__':\n",
    "    fptr = open(os.environ['OUTPUT_PATH'], 'w')\n",
    "\n",
    "    s = input()\n",
    "\n",
    "    result = solve(s)\n",
    "\n",
    "    fptr.write(result + '\\n')\n",
    "\n",
    "    fptr.close()"
   ]
  },
  {
   "cell_type": "markdown",
   "id": "d3d277ef-db3c-4bd3-a83c-95faf44cc7b3",
   "metadata": {},
   "source": [
    "### 12: Find a string"
   ]
  },
  {
   "cell_type": "code",
   "execution_count": null,
   "id": "dd29dee6-f0d2-45e2-b79c-6929245be4ca",
   "metadata": {},
   "outputs": [],
   "source": [
    "def count_substring(string, sub_string):\n",
    "    conta = 0\n",
    "    for ind in range(0,len(string)-len(sub_string)+3): #I have to add 3 or my loop won't take the last 3 letters\n",
    "        '''I can iterate all over the string just once because \n",
    "        I know that every character could be the first one of the substring, \n",
    "        so I don't need two nested loops, I can use just one loop'''\n",
    "        if string[ind:ind+len(sub_string)]==sub_string: \n",
    "            ''' For every iteration I want to see if the substring between these indexes is in the string '''\n",
    "            conta += 1\n",
    "    return(conta)\n",
    "\n",
    "if __name__ == '__main__':\n",
    "    string = input().strip()\n",
    "    sub_string = input().strip()\n",
    "    \n",
    "    count = count_substring(string, sub_string)\n",
    "    print(count)"
   ]
  },
  {
   "cell_type": "markdown",
   "id": "c0e9e390-a13e-4410-b840-3a632097b8b5",
   "metadata": {},
   "source": [
    "###  13: The Minion Game"
   ]
  },
  {
   "cell_type": "code",
   "execution_count": null,
   "id": "b2038adb-0e02-4850-87da-b46aa5647489",
   "metadata": {},
   "outputs": [],
   "source": [
    "def minion_game(string):\n",
    "    ck = 0\n",
    "    cs = 0\n",
    "    vowels = 'AEIOU'\n",
    "    cons = 'BCDFGHLMNPQRSTVZWXY'\n",
    "    for sub in range(len(string)):\n",
    "        if string[sub] in vowels:\n",
    "            ck += (len(string) - sub)\n",
    "        else:\n",
    "            cs += (len(string) - sub)\n",
    "    if cs > ck:\n",
    "        print(\"Stuart\", cs)\n",
    "    elif ck > cs:\n",
    "        print(\"Kevin\", ck)\n",
    "    else:\n",
    "        print(\"Draw\")\n",
    "\n",
    "            \n",
    "if __name__ == '__main__':\n",
    "    s = input()\n",
    "    minion_game(s)"
   ]
  },
  {
   "cell_type": "markdown",
   "id": "d150919a-14ac-4461-b477-3e6597d6079a",
   "metadata": {},
   "source": [
    "###  14: Merge the Tools!"
   ]
  },
  {
   "cell_type": "code",
   "execution_count": null,
   "id": "486666de-3ba3-42d7-8334-2f88693a09a7",
   "metadata": {},
   "outputs": [],
   "source": [
    "def merge_the_tools(string, k):\n",
    "    for x in zip(*[iter(string)] * k):\n",
    "        d = dict()\n",
    "        print(''.join([d.setdefault(c, c) for c in x if c not in d]))\n",
    "        \n",
    "\n",
    "if __name__ == '__main__':\n",
    "    string, k = input(), int(input())\n",
    "    merge_the_tools(string, k)"
   ]
  },
  {
   "cell_type": "markdown",
   "id": "17724e1c-46c5-49d6-9e31-e93de31b01f5",
   "metadata": {},
   "source": [
    "# Sets\n",
    "## 1: Introduction to Sets"
   ]
  },
  {
   "cell_type": "code",
   "execution_count": null,
   "id": "e72a39da-83b4-45c7-9c62-bf4c011f31bc",
   "metadata": {},
   "outputs": [],
   "source": [
    "def average(array):\n",
    "    mean = round(sum(set(array))/len(set(array)),3)\n",
    "    return(mean)\n",
    "\n",
    "if __name__ == '__main__':\n",
    "    n = int(input())\n",
    "    arr = list(map(int, input().split()))\n",
    "    result = average(arr)\n",
    "    print(result)"
   ]
  },
  {
   "cell_type": "markdown",
   "id": "ab9996a0-0906-455f-bd2d-b9701363dd69",
   "metadata": {},
   "source": [
    "###  2: Symmetic Difference"
   ]
  },
  {
   "cell_type": "code",
   "execution_count": null,
   "id": "ed83bea1-793d-429a-8511-a82f812de26e",
   "metadata": {},
   "outputs": [],
   "source": [
    "m,m1=(int(input()),input().split())\n",
    "n,n1=(int(input()),input().split())\n",
    "m = set(m1)\n",
    "n = set(n1)\n",
    "d_mn=m.difference(n)\n",
    "d_nm=n.difference(m)\n",
    "un=d_mn.union(d_nm)\n",
    "print ('\\n'.join(sorted(un, key=int)))"
   ]
  },
  {
   "cell_type": "markdown",
   "id": "645b33ec-3ffd-4617-ade0-5c86297ae53f",
   "metadata": {},
   "source": [
    "###  3: Set. add()"
   ]
  },
  {
   "cell_type": "code",
   "execution_count": null,
   "id": "7a8e959c-5a21-4045-96f1-97ff7cea45f0",
   "metadata": {},
   "outputs": [],
   "source": [
    "n = int(input())\n",
    "stdin = set()\n",
    "for _ in range(n):\n",
    "    stdin.add(input())\n",
    "print(len(stdin))"
   ]
  },
  {
   "cell_type": "markdown",
   "id": "b8d9f115-2886-4b39-a971-4ba9067a5af4",
   "metadata": {},
   "source": [
    "###  4: Set. discard(), .remove() & .pop()"
   ]
  },
  {
   "cell_type": "code",
   "execution_count": null,
   "id": "eea0e2ef-064f-4a19-a06e-191e8daa30c2",
   "metadata": {},
   "outputs": [],
   "source": [
    "n = int(input()) #elements to take\n",
    "s = set(map(int, input().split())) #element to take in the array\n",
    "oth = int(input()) #number of operations to do\n",
    "for i in range(oth): \n",
    "    job = input().split()\n",
    "    if job[0] == \"remove\": #if job wants to remove, remove the \"int(job[1])\" element \n",
    "        s.remove(int(job[1]))\n",
    "    elif job[0] == \"discard\":\n",
    "        s.discard(int(job[1]))\n",
    "    else:\n",
    "        s.pop()\n",
    "print(sum(s))"
   ]
  },
  {
   "cell_type": "markdown",
   "id": "031da9a6-0a8c-4410-aa88-3a28c974ebb7",
   "metadata": {},
   "source": [
    "###  5: Set .union() Operation"
   ]
  },
  {
   "cell_type": "code",
   "execution_count": null,
   "id": "153fcdad-bc1f-42b2-b047-6fd90346198d",
   "metadata": {},
   "outputs": [],
   "source": [
    "n = input()\n",
    "eng_roll = set(map(int, input().split()))\n",
    "b = input()\n",
    "fra_roll = set(map(int, input().split()))\n",
    "print(len(eng_roll.union(fra_roll)))"
   ]
  },
  {
   "cell_type": "markdown",
   "id": "a2cb7a18-edcd-443e-9ed2-664dfe4dca20",
   "metadata": {},
   "source": [
    "###  6: Set .intersection()"
   ]
  },
  {
   "cell_type": "code",
   "execution_count": null,
   "id": "5db6aefc-a145-440a-a57e-b20cdbd9e8d6",
   "metadata": {},
   "outputs": [],
   "source": [
    "n = input()\n",
    "eng_roll = set(map(int, input().split()))\n",
    "b = input()\n",
    "fra_roll = set(map(int, input().split()))\n",
    "print(len(eng_roll.intersection(fra_roll)))"
   ]
  },
  {
   "cell_type": "markdown",
   "id": "a9534c01-afd2-482b-b404-f5b53acf7407",
   "metadata": {},
   "source": [
    "###  7: Set. difference()"
   ]
  },
  {
   "cell_type": "code",
   "execution_count": null,
   "id": "a50c46cd-0fbe-4b80-9055-f54c42fdd570",
   "metadata": {},
   "outputs": [],
   "source": [
    "n = input()\n",
    "eng_roll = set(map(int, input().split()))\n",
    "b = input()\n",
    "fra_roll = set(map(int, input().split()))\n",
    "print(len(eng_roll.difference(fra_roll)))"
   ]
  },
  {
   "cell_type": "markdown",
   "id": "598d988d-4324-443f-9251-39afca629d6f",
   "metadata": {},
   "source": [
    "###  8: Set. symmetric_difference()"
   ]
  },
  {
   "cell_type": "code",
   "execution_count": null,
   "id": "e545873b-2416-445d-9071-a9d17663d756",
   "metadata": {},
   "outputs": [],
   "source": [
    "n = input()\n",
    "eng_roll = set(map(int, input().split()))\n",
    "b = input()\n",
    "fra_roll = set(map(int, input().split()))\n",
    "print(len(eng_roll.symmetric_difference(fra_roll)))"
   ]
  },
  {
   "cell_type": "markdown",
   "id": "c770801a-1452-4e95-896b-1960ef690ffa",
   "metadata": {},
   "source": [
    "###  9: Set Mutations"
   ]
  },
  {
   "cell_type": "code",
   "execution_count": null,
   "id": "4693ef6a-39bf-4e97-92b1-636c31c76112",
   "metadata": {},
   "outputs": [],
   "source": [
    "_ = int(input()) #the number of elements in set A\n",
    "el_A = set(map(int, input().split())) #the space separated list of elements in set A\n",
    "n_ots = int(input()) #the number of other sets\n",
    "\n",
    "\n",
    "for _ in range(n_ots): \n",
    "    ope, _ = input().split()\n",
    "    el_B = set(map(int,input().split()))\n",
    "    if ope == \"intersection_update\":\n",
    "        el_A.intersection_update(el_B)\n",
    "    elif ope == \"update\":\n",
    "        el_A.update(el_B)            \n",
    "    elif ope == \"difference_update\":\n",
    "        el_A.difference_update(el_B)\n",
    "    elif ope == \"symmetric_difference_update\":\n",
    "        el_A.symmetric_difference_update(el_B)\n",
    "print(sum(el_A))"
   ]
  },
  {
   "cell_type": "markdown",
   "id": "de5e0cd0-5200-4cc3-acb8-0c1102569025",
   "metadata": {},
   "source": [
    "###  10: Check Subset"
   ]
  },
  {
   "cell_type": "code",
   "execution_count": null,
   "id": "4cba3a52-bb86-4872-9fd5-f41d8deaaf3b",
   "metadata": {},
   "outputs": [],
   "source": [
    "nT = int(input()) #number of test cases\n",
    "for _ in range(nT):\n",
    "    nA = int(input()) #the number of elements in set A\n",
    "    el_A = set(map(int, input().split())) #the space separated list of elements in set A\n",
    "    nB = int(input()) #the number of elements in set B\n",
    "    el_B = set(map(int, input().split())) #the space separated list of elements in set B\n",
    "    if el_A.intersection(el_B) == el_A:\n",
    "        print(\"True\")\n",
    "    else:\n",
    "        print(\"False\")"
   ]
  },
  {
   "cell_type": "markdown",
   "id": "88c7c716-78cc-4078-a08b-d273ac46a60f",
   "metadata": {},
   "source": [
    "###  11: Check Strict Superset"
   ]
  },
  {
   "cell_type": "code",
   "execution_count": null,
   "id": "ff6d9620-719e-44b6-bdce-3248bca375eb",
   "metadata": {},
   "outputs": [],
   "source": [
    "el_A = set(map(int, input().split())) #the space separated list of elements in set A\n",
    "n = int(input()) #the number of other sets\n",
    "el_n = set(map(int, input().split()))\n",
    "if el_A>set(map(int, input().split())):\n",
    "    print(\"True\")\n",
    "else:\n",
    "    print(\"False\")"
   ]
  },
  {
   "cell_type": "markdown",
   "id": "e5036e16-7432-40f3-917f-151f3f828795",
   "metadata": {},
   "source": [
    "###  12: The Capitain's Room"
   ]
  },
  {
   "cell_type": "code",
   "execution_count": null,
   "id": "637530d8-0b7a-47f0-82bf-bf09fcd4e573",
   "metadata": {},
   "outputs": [],
   "source": [
    "k,el = int(input()),list(map(int, input().split()))\n",
    "r = set(el)\n",
    "print(((sum(r)*k)-(sum(el)))//(k-1))"
   ]
  },
  {
   "cell_type": "markdown",
   "id": "70c9b725-ac3e-46c6-bc76-fb1c7856bcc2",
   "metadata": {},
   "source": [
    "###  13: No Idea!"
   ]
  },
  {
   "cell_type": "code",
   "execution_count": null,
   "id": "22195797-532d-4266-96c3-39c4be67834c",
   "metadata": {},
   "outputs": [],
   "source": [
    "n, m = input().split()\n",
    "elms = input().split()\n",
    "A = set(input().split())\n",
    "B = set(input().split())\n",
    "print(sum([(i in A) - (i in B) for i in elms]))"
   ]
  },
  {
   "cell_type": "markdown",
   "id": "93d7f460-a51f-472b-a12c-e98a991cda38",
   "metadata": {},
   "source": [
    "## Collections\n",
    "###  1: DefaultDict Tutorial"
   ]
  },
  {
   "cell_type": "code",
   "execution_count": null,
   "id": "70a02465-02c8-4bc0-bd40-cf7f7b2a83c4",
   "metadata": {},
   "outputs": [],
   "source": [
    "from collections import defaultdict\n",
    "n, m = map(int, input().split())\n",
    "l1 = defaultdict(list)\n",
    "l2 = []\n",
    "for i in range(0,n):\n",
    "    l1[input()].append(i+1)\n",
    "\n",
    "for i in range(0,m):\n",
    "    l2 = l2 + [input()]\n",
    "\n",
    "for i in l2:\n",
    "    if i in l1:\n",
    "        print(\" \".join(map(str,l1[i])))\n",
    "    else:\n",
    "        print(-1)"
   ]
  },
  {
   "cell_type": "markdown",
   "id": "047e2c27-d7a5-4cde-9590-0ba4f9679e79",
   "metadata": {},
   "source": [
    "###  2: Collections.namedtuple()"
   ]
  },
  {
   "cell_type": "code",
   "execution_count": null,
   "id": "a95c08cb-d057-49ab-a4c1-6cc6cd6e5925",
   "metadata": {},
   "outputs": [],
   "source": [
    "from collections import namedtuple\n",
    "std = namedtuple('std','Id Name Marks Class')\n",
    "n, Marks, somm = int(input()), list(input().split()), 0 #I launch the variables\n",
    "for _ in range(n):\n",
    "    somm += int(list(input().split())[Marks.index('MARKS')])\n",
    "print(somm/n)"
   ]
  },
  {
   "cell_type": "markdown",
   "id": "eeeea2e1-48a2-4f33-a020-bc33ac6fc1a5",
   "metadata": {},
   "source": [
    "###  3: Collections.OrderedDict()"
   ]
  },
  {
   "cell_type": "code",
   "execution_count": null,
   "id": "93aff842-c6b4-477e-adfa-6690a2a6d80a",
   "metadata": {},
   "outputs": [],
   "source": [
    "from collections import OrderedDict\n",
    "D = OrderedDict()\n",
    "for _ in range(int(input())):\n",
    "    item, space, price = input().rpartition(' ')\n",
    "    D[item] = D.get(item, 0) + int(price)\n",
    "print(*[\" \".join([item, str(price)]) for item, price in D.items()], sep=\"\\n\")"
   ]
  },
  {
   "cell_type": "markdown",
   "id": "0e1a9f38-2a9d-4544-b105-8e430bfd4c33",
   "metadata": {},
   "source": [
    "###  4: Collections.deque()"
   ]
  },
  {
   "cell_type": "code",
   "execution_count": null,
   "id": "3d2c64c3-cf9d-440e-869a-4ac192bf5c64",
   "metadata": {},
   "outputs": [],
   "source": [
    "from collections import deque\n",
    "n = int(input()) #number of operations\n",
    "d = deque()\n",
    "for _ in range(n):\n",
    "    Input = input().split()\n",
    "    if Input[0] == 'append':\n",
    "        d.append(Input[1])\n",
    "    elif Input[0] == 'appendleft':\n",
    "        d.appendleft(Input[1])\n",
    "    elif Input[0] == 'pop':\n",
    "        d.pop()\n",
    "    elif Input[0] == 'popleft':\n",
    "        d.popleft()\n",
    "print(' '.join(d))"
   ]
  },
  {
   "cell_type": "markdown",
   "id": "5f5c7205-75e7-4f3b-b565-5d02f5dee71b",
   "metadata": {},
   "source": [
    "###  5: Company Logo"
   ]
  },
  {
   "cell_type": "code",
   "execution_count": null,
   "id": "ebf50910-6326-4a8d-bbe8-5a26880d78c7",
   "metadata": {},
   "outputs": [],
   "source": [
    "#!/bin/python3\n",
    "from operator import itemgetter, attrgetter, methodcaller\n",
    "\n",
    "import math\n",
    "import os\n",
    "import random\n",
    "import re\n",
    "import sys\n",
    "\n",
    "\n",
    "\n",
    "if __name__ == '__main__':\n",
    "    s = input()\n",
    "    md = {}\n",
    "    for i in s:\n",
    "        if i in md:\n",
    "            md[i] += 1\n",
    "        else:\n",
    "            md[i] = 1\n",
    "    l = []\n",
    "    for x, y in md.items(): # .items() returns a generator \n",
    "        # a generator is an object that \"creates\" one object at a time each time next () is called on it\n",
    "        l.append([x,-y])\n",
    "    l2 = sorted(l, key=itemgetter(1,0))\n",
    "    print(l2[0][0], -l2[0][1])\n",
    "    print(l2[1][0], -l2[1][1])\n",
    "    print(l2[2][0], -l2[2][1])"
   ]
  },
  {
   "cell_type": "markdown",
   "id": "33899614-f507-482a-af2a-c16c35254105",
   "metadata": {},
   "source": [
    "###  6: Pilling Up!"
   ]
  },
  {
   "cell_type": "code",
   "execution_count": null,
   "id": "2bf21af7-7e2f-4d37-8e33-8561bd098492",
   "metadata": {},
   "outputs": [],
   "source": [
    "from collections import deque\n",
    "\n",
    "for _ in range(int(input())):  \n",
    "    _, queue =input(), deque(map(int, input().split()))\n",
    "    \n",
    "    for cube in reversed(sorted(queue)):\n",
    "        if queue[-1] == cube: queue.pop()\n",
    "        elif queue[0] == cube: queue.popleft()\n",
    "        else:\n",
    "            print('No')\n",
    "            break\n",
    "        else:\n",
    "            print('Yes')"
   ]
  },
  {
   "cell_type": "markdown",
   "id": "2bfe389c-161f-4804-9b07-6a9c126e6328",
   "metadata": {},
   "source": [
    "###  7: collections.Counter()"
   ]
  },
  {
   "cell_type": "code",
   "execution_count": null,
   "id": "fc5c39da-f501-4e24-b811-2e714e05dbbd",
   "metadata": {},
   "outputs": [],
   "source": [
    "import collections\n",
    "X = int(input()) #n of shoes\n",
    "earned_money = 0\n",
    "shoe_size = collections.Counter(map(int, input().split())) \n",
    "# a Counter creates a collection where elements are stored as dictionary keys and their counts are stored as dictionary values\n",
    "custom = int(input())\n",
    "for _ in range(custom):\n",
    "    shoe_wanted, price_shoe = map(int, input().split())\n",
    "    if shoe_size[shoe_wanted]:\n",
    "        earned_money += price_shoe #he earns what he sells\n",
    "        shoe_size[shoe_wanted] -= 1 #when he sells the shoes, he has a pair less\n",
    "print(earned_money)"
   ]
  },
  {
   "cell_type": "markdown",
   "id": "ca1bf2c5-162b-491f-a4fe-070944e39b58",
   "metadata": {},
   "source": [
    "###  8: Word Order"
   ]
  },
  {
   "cell_type": "code",
   "execution_count": null,
   "id": "2df1711e-3c2c-40d2-9ff5-9866e0d6df0f",
   "metadata": {},
   "outputs": [],
   "source": [
    "from collections import OrderedDict\n",
    "words = OrderedDict()\n",
    "\n",
    "for _ in range(int(input())):\n",
    "    abc = input()\n",
    "    words.setdefault(abc, 0)\n",
    "    words[abc] += 1\n",
    "print(len(words))\n",
    "print(*words.values())"
   ]
  },
  {
   "cell_type": "markdown",
   "id": "9dda8f62-9d15-437e-9f06-b2b63a25fd9b",
   "metadata": {},
   "source": [
    "## Date and Time\n",
    "###  1: Calendar Module"
   ]
  },
  {
   "cell_type": "code",
   "execution_count": null,
   "id": "18820f4f-5b7e-4f01-869b-15ebc9cb0da4",
   "metadata": {},
   "outputs": [],
   "source": [
    "import calendar\n",
    "y, m, d = map(int, input().split())\n",
    "print(calendar.day_name[calendar.weekday(d, y, m)].upper())"
   ]
  },
  {
   "cell_type": "markdown",
   "id": "58215736-74aa-45b2-8ddf-ad6d94b88d99",
   "metadata": {},
   "source": [
    "###  2: Time Delta"
   ]
  },
  {
   "cell_type": "code",
   "execution_count": null,
   "id": "3c2ac9ee-369c-4417-8141-83d26264e93b",
   "metadata": {},
   "outputs": [],
   "source": [
    "#!/bin/python3\n",
    "\n",
    "import math\n",
    "import os\n",
    "import random\n",
    "import re\n",
    "import sys\n",
    "import calendar\n",
    "import datetime\n",
    "# Complete the time_delta function below.\n",
    "def time_delta(t1, t2):\n",
    "    t1 = datetime.datetime.strptime(t1,'%a %d %b %Y %H:%M:%S %z') #\n",
    "    t2 = datetime.datetime.strptime(t2,'%a %d %b %Y %H:%M:%S %z')\n",
    "    return (str(abs(int((t1-t2).total_seconds()))))\n",
    "\n",
    "if __name__ == '__main__':\n",
    "    fptr = open(os.environ['OUTPUT_PATH'], 'w')\n",
    "\n",
    "    t = int(input())\n",
    "\n",
    "    for t_itr in range(t):\n",
    "        t1 = input()\n",
    "\n",
    "        t2 = input()\n",
    "\n",
    "        delta = time_delta(t1, t2)\n",
    "\n",
    "        fptr.write(delta + '\\n')\n",
    "\n",
    "    fptr.close()"
   ]
  },
  {
   "cell_type": "markdown",
   "id": "419072e1-461a-402a-a78b-5d3b59b73a62",
   "metadata": {},
   "source": [
    "## Exceptions\n",
    "###  1: Exceptions"
   ]
  },
  {
   "cell_type": "code",
   "execution_count": null,
   "id": "b06c697e-4c26-4799-b639-af7e0e2ad3b2",
   "metadata": {},
   "outputs": [],
   "source": [
    "for i in range(int(input())):\n",
    "    try:\n",
    "        a, b = map(int, input().split())\n",
    "        print(a//b)\n",
    "    except ZeroDivisionError as e:\n",
    "        print(\"Error Code:\",e)\n",
    "    except ValueError as vr:\n",
    "        print(\"Error Code:\",vr)"
   ]
  },
  {
   "cell_type": "markdown",
   "id": "b14e66f0-056d-490f-9a77-19bdef9db581",
   "metadata": {},
   "source": [
    "## Built-ins\n",
    "###  1: Zipped!"
   ]
  },
  {
   "cell_type": "code",
   "execution_count": null,
   "id": "5620e6dc-11ca-47bc-a98c-0d2e4e9a0ded",
   "metadata": {},
   "outputs": [],
   "source": [
    "n, x = map(int, input().split()) #n stud, x subj\n",
    "# creating an empty list\n",
    "lst = []\n",
    "# iterating till the range\n",
    "for _ in range(0, x):\n",
    "    lst.append(map(float, input().split()))\n",
    "for i in zip(*lst):\n",
    "    print(sum(i)/len(i))"
   ]
  },
  {
   "cell_type": "markdown",
   "id": "00660212-3ba8-494a-93f9-b06bfb308f05",
   "metadata": {},
   "source": [
    "###  2: Athlete Sort"
   ]
  },
  {
   "cell_type": "code",
   "execution_count": null,
   "id": "32936102-c267-49b3-b74b-a083d39824ce",
   "metadata": {},
   "outputs": [],
   "source": [
    "#!/bin/python3\n",
    "\n",
    "import math\n",
    "import os\n",
    "import random\n",
    "import re\n",
    "import sys\n",
    "\n",
    "N,M = map(int,input().split())\n",
    "rows = [list(map(int,input().split())) for i in range(N)]\n",
    "i = int(input())\n",
    "rows = sorted(rows, key=lambda x:x[i])\n",
    "for i in rows:\n",
    "    print(*i)\n",
    "    \n",
    "if __name__ == '__main__':\n",
    "    nm = input().split()\n",
    "\n",
    "    n = int(nm[0])\n",
    "\n",
    "    m = int(nm[1])\n",
    "\n",
    "    arr = []\n",
    "\n",
    "    for _ in range(n):\n",
    "        arr.append(list(map(int, input().rstrip().split())))\n",
    "\n",
    "    k = int(input())"
   ]
  },
  {
   "cell_type": "markdown",
   "id": "2857bb16-d2ea-4b6f-8221-ae8da1ffe3b3",
   "metadata": {},
   "source": [
    "###  3: ginortS"
   ]
  },
  {
   "cell_type": "code",
   "execution_count": null,
   "id": "808fe076-8eff-41ce-a4fa-e8dca686f07e",
   "metadata": {},
   "outputs": [],
   "source": [
    "import string as s\n",
    "print(*sorted(input(), key=(s.ascii_letters + '1357902468').index), sep='')"
   ]
  },
  {
   "cell_type": "markdown",
   "id": "29de88bb-65ae-4fcf-a7c9-83c8b5fbdbb3",
   "metadata": {},
   "source": [
    "## Python Functionals\n",
    "###  1: Map and Lambda Function"
   ]
  },
  {
   "cell_type": "code",
   "execution_count": null,
   "id": "15656f96-880e-41ce-a98b-385dc061dd07",
   "metadata": {},
   "outputs": [],
   "source": [
    "cube = lambda x: x ** 3\n",
    "\n",
    "def fibonacci(n):\n",
    "    l=[0,1]\n",
    "    for i in range(2,n):\n",
    "        l.append(l[i-2] + l[i-1])\n",
    "    return(l[0:n])\n",
    "    \n",
    "\n",
    "if __name__ == '__main__':\n",
    "    n = int(input())\n",
    "    print(list(map(cube, fibonacci(n))))"
   ]
  },
  {
   "cell_type": "markdown",
   "id": "70267013-f491-468f-888f-5de60a3d42fb",
   "metadata": {},
   "source": [
    "## Regex and Parsing challenges\n",
    "###  1: Detect Floating Point Number"
   ]
  },
  {
   "cell_type": "code",
   "execution_count": null,
   "id": "1296e1f7-49e0-492f-b595-6ea651fa1872",
   "metadata": {},
   "outputs": [],
   "source": [
    "import re\n",
    "for _ in range(int(input())):\n",
    "\tprint(bool(re.match(r'^[-+]?[0-9]*\\.[0-9]+$', input())))"
   ]
  },
  {
   "cell_type": "markdown",
   "id": "0a5202e4-d44b-48df-be61-3e20fd6ee2ce",
   "metadata": {},
   "source": [
    "###  2: Re.split()"
   ]
  },
  {
   "cell_type": "code",
   "execution_count": null,
   "id": "3cc800ab-7968-489b-be84-a63b42d6b0be",
   "metadata": {},
   "outputs": [],
   "source": [
    "from __future__ import print_function\n",
    "import sys, re\n",
    "\n",
    "def resplit(text):\n",
    "    return [x for x in re.split(r'[,.]+', text) if len(x) > 0]\n",
    "\n",
    "def main():\n",
    "    for line in resplit(sys.stdin.read().rstrip()):\n",
    "        print(line)\n",
    "\n",
    "if __name__ == '__main__':\n",
    "    main()\n",
    "\n",
    "\n",
    "regex_pattern = r\"[.,]\"\t# Do not delete 'r'.\n",
    "\n",
    "import re\n",
    "print(\"\\n\".join(re.split(regex_pattern, input())))"
   ]
  },
  {
   "cell_type": "markdown",
   "id": "88e88035-3dbc-4346-b5de-28c63a0d61b9",
   "metadata": {},
   "source": [
    "###  3: Group(), Groups() & Groupdict()"
   ]
  },
  {
   "cell_type": "code",
   "execution_count": null,
   "id": "360be644-a645-46a5-9701-7bcb9b2d6b08",
   "metadata": {},
   "outputs": [],
   "source": [
    "#Valid chars . a-z 0-9 \n",
    "import re\n",
    "s = input()\n",
    "pattern = re.search(r'([a-z0-9])\\1+', s) #'1+' indicates one or more\n",
    "#search() --> Scan through a string, looking for any location where this RE matches.\n",
    "if pattern:\n",
    "    print(pattern.group(1))\n",
    "else:\n",
    "    print('-1')"
   ]
  },
  {
   "cell_type": "markdown",
   "id": "d4e4e5b1-5a13-42a3-87a9-39f334e069c1",
   "metadata": {},
   "source": [
    "###  4: Re.findall() & Re.finditer()"
   ]
  },
  {
   "cell_type": "code",
   "execution_count": null,
   "id": "52d7e2fa-655c-4bbb-9784-f3bfbdcd982d",
   "metadata": {},
   "outputs": [],
   "source": [
    "s = input()\n",
    "import re\n",
    "vow = 'AEIOUaeiou'\n",
    "m = re.compile('[^{0}][{0}][{0}]+[^{0}]'.format(vow),re.I)\n",
    "pattern = m.search(s)\n",
    "if not pattern:\n",
    "    print('-1')\n",
    "while pattern:    \n",
    "    print(s[pattern.start()+1:pattern.end()-1]) #removing 1st & last consonant\n",
    "    pattern = m.search(s,pattern.start()+1)"
   ]
  },
  {
   "cell_type": "markdown",
   "id": "30683c3b-6178-4074-b377-1d93a48494e0",
   "metadata": {},
   "source": [
    "###  5: Regex Substitution"
   ]
  },
  {
   "cell_type": "code",
   "execution_count": null,
   "id": "0fa1c2c7-c766-421f-bd24-b92bb2ccd082",
   "metadata": {},
   "outputs": [],
   "source": [
    "from sys import stdin\n",
    "import re\n",
    "n = input()\n",
    "print(re.sub( r\"(?<= )(&&|\\|\\|)(?= )\", lambda x: \"and\" if x.group()==\"&&\" else \"or\", stdin.read()))"
   ]
  },
  {
   "cell_type": "markdown",
   "id": "d4a0ffcc-687a-4066-9960-2687bb76693e",
   "metadata": {},
   "source": [
    "###  6: Validating Roman Numerals"
   ]
  },
  {
   "cell_type": "code",
   "execution_count": null,
   "id": "56aa070e-7a5e-413b-bbb3-a351839a91d5",
   "metadata": {},
   "outputs": [],
   "source": [
    "regex_pattern = r\"\"\t# Do not delete 'r'.\n",
    "\n",
    "import re\n",
    "n_rm = input()\n",
    "if re.search(r\"^(I|V|X|L|C|D|M)+$\", n_rm) == None:\n",
    "    print(\"False\")\n",
    "elif re.search(r\"(IIII|XXXX|CCCC|MMMM|VV|LL|DD)\", n_rm) != None:\n",
    "    print(\"False\")\n",
    "else:\n",
    "    print(\"True\")\n",
    "\n",
    "import re\n",
    "print(str(bool(re.match(regex_pattern, input()))))"
   ]
  },
  {
   "cell_type": "markdown",
   "id": "0850483f-7cf2-4a80-af0e-19ccd2a4bf54",
   "metadata": {},
   "source": [
    "###  7: Validating phone numbers"
   ]
  },
  {
   "cell_type": "code",
   "execution_count": null,
   "id": "2077113d-c8bb-4c8d-9f10-c93387fcc5b2",
   "metadata": {},
   "outputs": [],
   "source": [
    "import re\n",
    "n = int(input())\n",
    "for i in range(n):\n",
    "    if re.match(r'[789]\\d{9}$', input()): #\\d{9} means exactly 9 digits\n",
    "        print ('YES')  \n",
    "    else:\n",
    "        print ('NO')"
   ]
  },
  {
   "cell_type": "markdown",
   "id": "ed0a1849-b4ca-4156-929b-f889c0d2eeb3",
   "metadata": {},
   "source": [
    "###  8: Validating and Parsing Email Addresses\n",
    "\n"
   ]
  },
  {
   "cell_type": "code",
   "execution_count": null,
   "id": "bfb0dc24-3b17-45b2-97b8-1013efc9a07d",
   "metadata": {},
   "outputs": [],
   "source": [
    "import re\n",
    "m = r'^([a-z]+ \\<[a-z][-.\\w]*@[a-z]+\\.[a-z]{1,3}\\>)'\n",
    "for _ in range(int(input())):\n",
    "    match = re.match(m, input(), re.I)\n",
    "    if match:\n",
    "        print(match.group(1))"
   ]
  },
  {
   "cell_type": "markdown",
   "id": "2be84bc4-59f9-44bf-9b03-e76e3e294c88",
   "metadata": {},
   "source": [
    "###  9: Hex Color Code\n",
    "\n",
    " "
   ]
  },
  {
   "cell_type": "code",
   "execution_count": null,
   "id": "2edc706a-7846-4bf7-9db7-d23976cec0a5",
   "metadata": {},
   "outputs": [],
   "source": [
    "import re\n",
    "n = int(input())\n",
    "m = r'(#[0-9A-Fa-f]{3,6}){1,2}[^\\n ]'\n",
    "for _ in range(n):\n",
    "    for c in re.findall(m, input()):\n",
    "        print(c)"
   ]
  },
  {
   "cell_type": "markdown",
   "id": "47924179-3227-4389-839c-dd02c471d8fa",
   "metadata": {},
   "source": [
    "###  10: HTML Parser - Part 1"
   ]
  },
  {
   "cell_type": "code",
   "execution_count": null,
   "id": "6a7edb13-841d-432c-b500-db8bbaf01413",
   "metadata": {},
   "outputs": [],
   "source": [
    "import re\n",
    "import html\n",
    "from html.parser import HTMLParser\n",
    "# create a subclass and override the handler methods\n",
    "class MyHTMLParser(HTMLParser):\n",
    "    def handle_starttag(self, tag, attrs):\n",
    "        print(\"Start :\", tag)\n",
    "        for name,value in attrs:\n",
    "            print(\"->\",name+\" >\",value)\n",
    "    def handle_endtag(self, tag):\n",
    "        print (\"End :\", tag)\n",
    "    def handle_startendtag(self, tag, attrs):\n",
    "        print (\"Empty :\", tag)\n",
    "        for name,value in attrs:\n",
    "            print(\"->\",name+\" >\",value)\n",
    "# instantiate the parser and fed it some HTML\n",
    "parser = MyHTMLParser()\n",
    "n = int(input())\n",
    "for _ in range(n):\n",
    "    parser.feed(input())"
   ]
  },
  {
   "cell_type": "markdown",
   "id": "59d88916-0fed-4f7c-9639-45cc12a2d59b",
   "metadata": {},
   "source": [
    "###  11: HTML Parser - Part 2"
   ]
  },
  {
   "cell_type": "code",
   "execution_count": null,
   "id": "09c7ceb9-086b-4782-a911-3dd5b42c5e4c",
   "metadata": {},
   "outputs": [],
   "source": [
    "from html.parser import HTMLParser\n",
    "\n",
    "class MyHTMLParser(HTMLParser):\n",
    "    def handle_comment(self, comment):\n",
    "        if '\\n' in comment:\n",
    "            print('>>> Multi-line Comment')\n",
    "        else:\n",
    "            print('>>> Single-line Comment')\n",
    "            \n",
    "        print(comment)\n",
    "    \n",
    "    def handle_data(self, data):\n",
    "        if data == '\\n': return\n",
    "        print('>>> Data')\n",
    "        print(data)\n",
    "  \n",
    "html = \"\"       \n",
    "for i in range(int(input())):\n",
    "    html += input().rstrip()\n",
    "    html += '\\n'\n",
    "    \n",
    "parser = MyHTMLParser()\n",
    "parser.feed(html)\n",
    "parser.close()"
   ]
  },
  {
   "cell_type": "markdown",
   "id": "5cea3cbe-e7e9-4d88-949b-9f01f901ee04",
   "metadata": {},
   "source": [
    "###  12: Detect HTML Tags, Attributes and Attribute Values\n",
    "\n"
   ]
  },
  {
   "cell_type": "code",
   "execution_count": null,
   "id": "0490891b-0d06-495b-a406-dcdd74f1d1e5",
   "metadata": {},
   "outputs": [],
   "source": [
    "from html.parser import HTMLParser\n",
    "class Parser(HTMLParser):\n",
    "    def handle_starttag(self, tag, attrb):\n",
    "        print(tag)\n",
    "        for attr in attrb:\n",
    "            prop,value = attr\n",
    "            print(\"-> \" + prop + \" > \" + value)\n",
    "n=int(input())\n",
    "s=\"\"\n",
    "for i in range(n):\n",
    "    s+= \" \" + input()\n",
    "parser = Parser()\n",
    "parser.feed(s)"
   ]
  },
  {
   "cell_type": "markdown",
   "id": "42b99029-76a2-4dc6-87f0-ff4803c572dd",
   "metadata": {},
   "source": [
    "###  13: Validating UID"
   ]
  },
  {
   "cell_type": "code",
   "execution_count": null,
   "id": "520f3a2f-06bf-4559-9e79-1b7e17563983",
   "metadata": {},
   "outputs": [],
   "source": [
    "import re\n",
    "t = int(input())\n",
    "for i in range(t):\n",
    "    if re.search(r'^(?!.*(.).*\\1)(?=(?:.*[A-Z]){2,})(?=(?:.*\\d){3,})[a-zA-Z0-9]{10}$', input()):\n",
    "        print ('Valid')  \n",
    "    else:\n",
    "        print ('Invalid')"
   ]
  },
  {
   "cell_type": "markdown",
   "id": "60b42262-0839-4509-b182-11396b6753e3",
   "metadata": {},
   "source": [
    "###  14: Validating Credit Card Numbers\n",
    "\n"
   ]
  },
  {
   "cell_type": "code",
   "execution_count": null,
   "id": "16279a36-3471-4044-9f51-328809191212",
   "metadata": {},
   "outputs": [],
   "source": [
    "import re\n",
    "m = re.compile(\n",
    "    r\"^\"\n",
    "    r\"(?!.*(\\d)(-?\\1){3})\"\n",
    "    r\"[456]\"\n",
    "    r\"\\d{3}\"\n",
    "    r\"(?:-?\\d{4}){3}\"\n",
    "    r\"$\")\n",
    "for _ in range(int(input().strip())):\n",
    "    if m.search(input().strip()):\n",
    "        print(\"Valid\")\n",
    "    else:\n",
    "        print(\"Invalid\")"
   ]
  },
  {
   "cell_type": "markdown",
   "id": "932de49e-f5c0-49b0-8c7d-5caccc31f62f",
   "metadata": {},
   "source": [
    "###  15: Validating Postal Codes"
   ]
  },
  {
   "cell_type": "code",
   "execution_count": null,
   "id": "b5b818aa-8d32-4fd7-80fa-5cd8473583c0",
   "metadata": {},
   "outputs": [],
   "source": [
    "regex_integer_in_range = r\"^[1-9][\\d]{5}$\"\t# Do not delete 'r'.\n",
    "regex_alternating_repetitive_digit_pair = r\"(\\d)(?=\\d\\1)\"\t# Do not delete 'r'.\n",
    "\n",
    "import re\n",
    "P = input()\n",
    "\n",
    "print (bool(re.match(regex_integer_in_range, P)) \n",
    "and len(re.findall(regex_alternating_repetitive_digit_pair, P)) < 2)"
   ]
  },
  {
   "cell_type": "markdown",
   "id": "eb4b4a5f-ca4a-4308-a6e8-b16668c94f77",
   "metadata": {},
   "source": [
    "###  16: Matrix Script"
   ]
  },
  {
   "cell_type": "code",
   "execution_count": null,
   "id": "a2a1f3b3-71b6-4bac-b4b0-935fd1564fac",
   "metadata": {},
   "outputs": [],
   "source": [
    "import sys\n",
    "import re\n",
    "N, M = map(int, sys.stdin.readline().split())\n",
    "rows = [sys.stdin.readline()[:M] for i in range(N)]\n",
    "\n",
    "cols = [''.join([rows[i][j] for i in range(N)]) for j in range(M)]\n",
    "decode = ''.join(cols)\n",
    "\n",
    "print (re.sub('([0-9a-zA-Z])[^0-9a-zA-Z]+([0-9a-zA-Z])', '\\g<1> \\g<2>', decode))"
   ]
  },
  {
   "cell_type": "markdown",
   "id": "c024a16b-7485-41d6-853d-f9c02227e755",
   "metadata": {},
   "source": [
    "###  17: Re.split()"
   ]
  },
  {
   "cell_type": "code",
   "execution_count": null,
   "id": "8068e275-8375-4f13-bbe6-9be5bb29e7c3",
   "metadata": {},
   "outputs": [],
   "source": [
    "from __future__ import print_function\n",
    "import sys, re\n",
    "\n",
    "def resplit(text):\n",
    "    return [x for x in re.split(r'[,.]+', text) if len(x) > 0]\n",
    "\n",
    "def main():\n",
    "    for line in resplit(sys.stdin.read().rstrip()):\n",
    "        print(line)\n",
    "\n",
    "if __name__ == '__main__':\n",
    "    main()\n",
    "\n",
    "regex_pattern = r\"[.,]\"   \n",
    "import re\n",
    "print(\"\\n\".join(re.split(regex_pattern, input())))"
   ]
  },
  {
   "cell_type": "markdown",
   "id": "3c5e0bfc-e6ee-4c23-b88d-a4d0a9ff9381",
   "metadata": {},
   "source": [
    "## XML\n",
    "###  1: XML 1 - Find the Score\n",
    "\n"
   ]
  },
  {
   "cell_type": "code",
   "execution_count": null,
   "id": "e2451d51-653a-4ace-8887-4996713716b2",
   "metadata": {},
   "outputs": [],
   "source": [
    "import sys\n",
    "import xml.etree.ElementTree as etree\n",
    "\n",
    "def get_attr_number(node):\n",
    "    return etree.tostring(node).count(b'=') \n",
    "\n",
    "if __name__ == '__main__':\n",
    "    sys.stdin.readline()\n",
    "    xml = sys.stdin.read()\n",
    "    tree = etree.ElementTree(etree.fromstring(xml))\n",
    "    root = tree.getroot()\n",
    "    print(get_attr_number(root))"
   ]
  },
  {
   "cell_type": "markdown",
   "id": "51b2d8ff-9cf0-406f-b6ef-de359334de3e",
   "metadata": {},
   "source": [
    "###  2:  XML2 - Find the Maximum Depth"
   ]
  },
  {
   "cell_type": "code",
   "execution_count": null,
   "id": "60ad5e3e-7849-4361-a0cd-73c09dbb9ce2",
   "metadata": {},
   "outputs": [],
   "source": [
    "import xml.etree.ElementTree as etree\n",
    "\n",
    "maxdepth = 0\n",
    "def depth(elem, level):\n",
    "    global maxdepth\n",
    "    level += 1\n",
    "    if level >= maxdepth:\n",
    "        maxdepth = level\n",
    "    for child in elem:\n",
    "        depth(child, level)\n",
    "\n",
    "if __name__ == '__main__':\n",
    "    n = int(input())\n",
    "    xml = \"\"\n",
    "    for i in range(n):\n",
    "        xml =  xml + input() + \"\\n\"\n",
    "    tree = etree.ElementTree(etree.fromstring(xml))\n",
    "    depth(tree.getroot(), -1)\n",
    "    print(maxdepth)"
   ]
  },
  {
   "cell_type": "markdown",
   "id": "9781e15b-a75b-4137-90d8-f4572a969c76",
   "metadata": {},
   "source": [
    "## Closures and Decorations\n",
    "###  1: Standardize Mobile Number Using Decorators\n",
    "\n"
   ]
  },
  {
   "cell_type": "code",
   "execution_count": null,
   "id": "f8a39c53-02fe-4805-b2a4-1cb5d686898e",
   "metadata": {},
   "outputs": [],
   "source": [
    "def wrapper(f):\n",
    "    def fun(l):\n",
    "        f([\"+91 \"+c[-10:-5]+\" \"+c[-5:] for c in l]) \n",
    "        # 6 characters counting from the end\n",
    "        # last 5 characters of the phone number\n",
    "        \n",
    "    return fun\n",
    "\n",
    "@wrapper\n",
    "def sort_phone(l):\n",
    "    print(*sorted(l), sep='\\n')\n",
    "\n",
    "if __name__ == '__main__':\n",
    "    l = [input() for _ in range(int(input()))]\n",
    "    sort_phone(l) "
   ]
  },
  {
   "cell_type": "markdown",
   "id": "4fdc326e-a71e-4c0f-bd64-da70b3ea8cee",
   "metadata": {},
   "source": [
    "###  2: Decorators 2 - Name Directory"
   ]
  },
  {
   "cell_type": "code",
   "execution_count": null,
   "id": "a04cfb6e-7b3d-4f96-b38c-ff46786aac88",
   "metadata": {},
   "outputs": [],
   "source": [
    "import operator\n",
    "def et(n):\n",
    "    return (int(n[2]))\n",
    "\n",
    "def person_lister(f):\n",
    "    def inner(people):\n",
    "        return (map(f, sorted(people, key=et)))\n",
    "    return inner\n",
    "\n",
    "@person_lister\n",
    "def name_format(person):\n",
    "    return (\"Mr. \" if person[3] == \"M\" else \"Ms. \") + person[0] + \" \" + person[1]\n",
    "\n",
    "if __name__ == '__main__':\n",
    "    people = [input().split() for i in range(int(input()))]\n",
    "    print(*name_format(people), sep='\\n')"
   ]
  },
  {
   "cell_type": "markdown",
   "id": "92c8ac16-902e-4258-8065-c3a2298e1399",
   "metadata": {},
   "source": [
    "## Numpy\n",
    "###  1: Arrays"
   ]
  },
  {
   "cell_type": "code",
   "execution_count": null,
   "id": "6e17b3bb-6b1e-4d45-bc28-4caf4b08d303",
   "metadata": {},
   "outputs": [],
   "source": [
    "import numpy\n",
    "\n",
    "def arrays(arr):\n",
    "    ris = numpy.array(arr, float)\n",
    "    ris_rev = ris[::-1]\n",
    "    return (ris_rev)\n",
    "\n",
    "arr = input().strip().split(' ')\n",
    "result = arrays(arr)\n",
    "print(result)"
   ]
  },
  {
   "cell_type": "markdown",
   "id": "ae55928f-22ee-4819-8ee9-9ab719d51114",
   "metadata": {},
   "source": [
    "###  2: Shape and Reshape"
   ]
  },
  {
   "cell_type": "code",
   "execution_count": null,
   "id": "3880965c-536c-4ea2-9873-c68eddc60fb6",
   "metadata": {},
   "outputs": [],
   "source": [
    "import numpy\n",
    "\n",
    "arr = input().strip().split(' ')\n",
    "arr = numpy.array(arr, int)\n",
    "arr.shape = (3, 3)\n",
    "print(arr) "
   ]
  },
  {
   "cell_type": "markdown",
   "id": "3034edf0-8c91-41c5-ab14-00b4e37f9893",
   "metadata": {},
   "source": [
    "###  3: Transpose and Flatten"
   ]
  },
  {
   "cell_type": "code",
   "execution_count": null,
   "id": "d8c3a2c8-d070-4168-9fe4-33b43e867987",
   "metadata": {},
   "outputs": [],
   "source": [
    "import numpy\n",
    "\n",
    "n, m = map(int, input().split())\n",
    "array = numpy.array([input().strip().split() for _ in range(n)], int)\n",
    "print (array.transpose())\n",
    "print (array.flatten())"
   ]
  },
  {
   "cell_type": "markdown",
   "id": "5383f6e4-5305-45f7-9195-26955efa6100",
   "metadata": {},
   "source": [
    "###  4: Concatenate"
   ]
  },
  {
   "cell_type": "code",
   "execution_count": null,
   "id": "a381cf9d-b94f-4663-a6c2-7bbf42736129",
   "metadata": {},
   "outputs": [],
   "source": [
    "import numpy\n",
    "\n",
    "n, m, p = map(int, input().split())\n",
    "array_n = numpy.array([input().strip().split() for _ in range(n)], int)\n",
    "array_m = numpy.array([input().strip().split() for _ in range(m)], int)\n",
    "print(numpy.concatenate((array_n, array_m), axis = 0))"
   ]
  },
  {
   "cell_type": "markdown",
   "id": "427ef3bb-ad60-42c1-af5e-7ecd058b5e83",
   "metadata": {},
   "source": [
    "###  5: Zeros and Ones"
   ]
  },
  {
   "cell_type": "code",
   "execution_count": null,
   "id": "fd402ebe-013e-4d17-8e8e-1a3f1b251a0b",
   "metadata": {},
   "outputs": [],
   "source": [
    "import numpy\n",
    "\n",
    "nmr = list(map(int, input().split()))\n",
    "print(numpy.zeros((nmr), dtype = numpy.int))\n",
    "print(numpy.ones((nmr), dtype = numpy.int))"
   ]
  },
  {
   "cell_type": "markdown",
   "id": "4ee45b7c-d582-4131-9aac-50eab99b3f41",
   "metadata": {},
   "source": [
    "###  6: Eye and Identity"
   ]
  },
  {
   "cell_type": "code",
   "execution_count": null,
   "id": "980659ec-26a3-4551-a6cb-516ea59c64da",
   "metadata": {},
   "outputs": [],
   "source": [
    "import numpy\n",
    "numpy.set_printoptions(legacy='1.13')\n",
    "\n",
    "n,m = map(int, input().split())\n",
    "print(numpy.identity(n))"
   ]
  },
  {
   "cell_type": "markdown",
   "id": "547b444a-711b-4b90-b6f0-ea290f3a3cd3",
   "metadata": {},
   "source": [
    "###  7: Array Mathematics"
   ]
  },
  {
   "cell_type": "code",
   "execution_count": null,
   "id": "9fef2a17-79dc-4255-a14b-bf83425aa54f",
   "metadata": {},
   "outputs": [],
   "source": [
    "import numpy\n",
    "\n",
    "n, m = map(int, input().split())\n",
    "a = numpy.array([input().strip().split() for _ in range(n)], int)\n",
    "b = numpy.array([input().strip().split() for _ in range(n)], int)\n",
    "print(numpy.add(a, b))\n",
    "print(numpy.subtract(a, b))\n",
    "print(numpy.multiply(a, b))\n",
    "print(a // b )\n",
    "print(numpy.mod(a, b))\n",
    "print(numpy.power(a, b))"
   ]
  },
  {
   "cell_type": "markdown",
   "id": "c4976d9b-4217-4638-9444-8dbcfee5c5aa",
   "metadata": {},
   "source": [
    "###  8: Floor, Ceil and Rint"
   ]
  },
  {
   "cell_type": "code",
   "execution_count": null,
   "id": "ee7b0544-09c7-40b3-8da5-689605281e0e",
   "metadata": {},
   "outputs": [],
   "source": [
    "import numpy\n",
    "numpy.set_printoptions(legacy='1.13')\n",
    "\n",
    "arr = input().strip().split(' ')\n",
    "my_array = numpy.array(arr, float)\n",
    "print(numpy.floor(my_array))\n",
    "print(numpy.ceil(my_array))\n",
    "print(numpy.rint(my_array))"
   ]
  },
  {
   "cell_type": "markdown",
   "id": "0ffc2f95-abb4-4840-90ad-761464f96aa5",
   "metadata": {},
   "source": [
    "###  9: Sum and Prod\n",
    "\n"
   ]
  },
  {
   "cell_type": "code",
   "execution_count": null,
   "id": "58027021-1656-4e59-ab17-acd985eda383",
   "metadata": {},
   "outputs": [],
   "source": [
    "import numpy\n",
    "\n",
    "n, m = map(int, input().split())\n",
    "my_array = numpy.array([input().strip().split() for _ in range(n)], int)\n",
    "a2 = numpy.sum(my_array, axis = 0)\n",
    "print(numpy.prod(a2))"
   ]
  },
  {
   "cell_type": "markdown",
   "id": "4163cba4-c6ed-487a-95ec-a49a23b73526",
   "metadata": {},
   "source": [
    "###  10: Min and Max"
   ]
  },
  {
   "cell_type": "code",
   "execution_count": null,
   "id": "0b264afa-3961-4146-a8d0-7d2fed3725a4",
   "metadata": {},
   "outputs": [],
   "source": [
    "import numpy\n",
    "\n",
    "n, m = map(int, input().split())\n",
    "my_array = numpy.array([input().strip().split() for _ in range(n)], int)\n",
    "finder = numpy.min(my_array, axis = 1)\n",
    "print(numpy.max(finder))"
   ]
  },
  {
   "cell_type": "markdown",
   "id": "9343f70a-23a8-4c68-a11b-f9bf4196964b",
   "metadata": {},
   "source": [
    "###  11: Mean, Var and Std"
   ]
  },
  {
   "cell_type": "code",
   "execution_count": null,
   "id": "83ea9e20-c4d4-45be-9a41-d311cc6a1141",
   "metadata": {},
   "outputs": [],
   "source": [
    "import numpy\n",
    "n, m = map(int, input().split())\n",
    "my_array = numpy.array([input().strip().split() for _ in range(n)], float)\n",
    "print(numpy.mean(my_array, axis = 1))\n",
    "print(numpy.var(my_array, axis = 0))\n",
    "a = numpy.std(my_array)\n",
    "b = round(a,11)\n",
    "print(b)"
   ]
  },
  {
   "cell_type": "markdown",
   "id": "77b20255-4669-4f77-827c-88ba4c6dd39a",
   "metadata": {},
   "source": [
    "###  12: Dot and Cross"
   ]
  },
  {
   "cell_type": "code",
   "execution_count": null,
   "id": "109a7b65-20de-4ad5-a7ce-da853a9edaa3",
   "metadata": {},
   "outputs": [],
   "source": [
    "import numpy\n",
    "\n",
    "n = int(input())\n",
    "A = numpy.array([input().strip().split() for _ in range(n)], int)\n",
    "B = numpy.array([input().strip().split() for _ in range(n)], int)\n",
    "print(numpy.dot(A, B))"
   ]
  },
  {
   "cell_type": "markdown",
   "id": "c7db0664-c934-49af-882e-091ccc81739e",
   "metadata": {},
   "source": [
    "###  13: Inner and Outer"
   ]
  },
  {
   "cell_type": "code",
   "execution_count": null,
   "id": "c7257f8d-e074-4102-a9af-9b18e56a5372",
   "metadata": {},
   "outputs": [],
   "source": [
    "import numpy\n",
    "\n",
    "A = numpy.array(input().split(), int)\n",
    "B = numpy.array(input().split(), int)\n",
    "print(numpy.inner(A,B), numpy.outer(A,B), sep='\\n')"
   ]
  },
  {
   "cell_type": "markdown",
   "id": "f1d6c993-900d-4d6b-8c4e-fc250fdc4b52",
   "metadata": {},
   "source": [
    "###  14: Polynomials"
   ]
  },
  {
   "cell_type": "code",
   "execution_count": null,
   "id": "80225a68-e64a-4b5a-b4c5-21220f90ab55",
   "metadata": {},
   "outputs": [],
   "source": [
    "import numpy\n",
    "\n",
    "my_array = numpy.array(input().split(), float)\n",
    "x = int(input())\n",
    "print(numpy.polyval(my_array, x))"
   ]
  },
  {
   "cell_type": "markdown",
   "id": "7ec209ef-5067-4a85-a86c-ae2350e3f9ed",
   "metadata": {},
   "source": [
    "###  15: Linear Algebra"
   ]
  },
  {
   "cell_type": "code",
   "execution_count": null,
   "id": "8fd3559b-3884-44db-9135-418995ff2f53",
   "metadata": {},
   "outputs": [],
   "source": [
    "import numpy\n",
    "\n",
    "n = int(input())\n",
    "A = numpy.array([input().strip().split() for _ in range(n)], float)\n",
    "det2 = round(numpy.linalg.det(A),2)\n",
    "print(det2)"
   ]
  }
 ],
 "metadata": {
  "kernelspec": {
   "display_name": "Python 3 (ipykernel)",
   "language": "python",
   "name": "python3"
  },
  "language_info": {
   "codemirror_mode": {
    "name": "ipython",
    "version": 3
   },
   "file_extension": ".py",
   "mimetype": "text/x-python",
   "name": "python",
   "nbconvert_exporter": "python",
   "pygments_lexer": "ipython3",
   "version": "3.10.9"
  }
 },
 "nbformat": 4,
 "nbformat_minor": 5
}
